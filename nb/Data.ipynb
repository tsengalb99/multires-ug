{
 "cells": [
  {
   "cell_type": "code",
   "execution_count": 2,
   "metadata": {
    "collapsed": true
   },
   "outputs": [],
   "source": [
    "import torch"
   ]
  },
  {
   "cell_type": "code",
   "execution_count": 3,
   "metadata": {
    "collapsed": true
   },
   "outputs": [],
   "source": [
    "import os, sys, time, struct, json, dill as pickle\n",
    "from os.path import join as pj\n",
    "from collections import defaultdict"
   ]
  },
  {
   "cell_type": "code",
   "execution_count": 4,
   "metadata": {
    "collapsed": true
   },
   "outputs": [],
   "source": [
    "import numpy as np, scipy, sklearn\n",
    "import matplotlib.pyplot as plt\n",
    "%matplotlib notebook"
   ]
  },
  {
   "cell_type": "code",
   "execution_count": 8,
   "metadata": {
    "collapsed": true
   },
   "outputs": [],
   "source": [
    "DATA_DIR=\"/tmp/stephan/data/basketball/parsed\""
   ]
  },
  {
   "cell_type": "code",
   "execution_count": 9,
   "metadata": {},
   "outputs": [
    {
     "data": {
      "text/plain": [
       "['new_split_2000000_sw0.50_tt0.90']"
      ]
     },
     "execution_count": 9,
     "metadata": {},
     "output_type": "execute_result"
    }
   ],
   "source": [
    "os.listdir(DATA_DIR)"
   ]
  },
  {
   "cell_type": "code",
   "execution_count": 10,
   "metadata": {
    "collapsed": true
   },
   "outputs": [],
   "source": [
    "from datareader import ShotsDataset"
   ]
  },
  {
   "cell_type": "code",
   "execution_count": 12,
   "metadata": {},
   "outputs": [
    {
     "name": "stdout",
     "output_type": "stream",
     "text": [
      "Loaded dataset with 1800000 examples\n"
     ]
    }
   ],
   "source": [
    "fp = pj(DATA_DIR, \"new_split_2000000_sw0.50_tt0.90\")\n",
    "sd = ShotsDataset(fp, res_bh=1, res_def=1, train=True)"
   ]
  },
  {
   "cell_type": "code",
   "execution_count": 30,
   "metadata": {},
   "outputs": [
    {
     "name": "stdout",
     "output_type": "stream",
     "text": [
      "Loaded dataset with 1800000 examples\n",
      "Loaded dataset with 1800000 examples\n",
      "Loaded dataset with 1800000 examples\n",
      "Loaded dataset with 1800000 examples\n"
     ]
    }
   ],
   "source": [
    "data_loader_10 = torch.utils.data.DataLoader(\n",
    "    ShotsDataset(fp, 10, 2, train=True),\n",
    "    batch_size=1, shuffle=False)\n",
    "data_loader_5 = torch.utils.data.DataLoader(\n",
    "    ShotsDataset(fp, 5, 2, train=True),\n",
    "    batch_size=1, shuffle=False)\n",
    "data_loader_2 = torch.utils.data.DataLoader(\n",
    "    ShotsDataset(fp, 2, 2, train=True),\n",
    "    batch_size=1, shuffle=False)\n",
    "data_loader_1 = torch.utils.data.DataLoader(\n",
    "    ShotsDataset(fp, 1, 2, train=True),\n",
    "    batch_size=1, shuffle=False)"
   ]
  },
  {
   "cell_type": "code",
   "execution_count": 31,
   "metadata": {
    "collapsed": true
   },
   "outputs": [],
   "source": [
    "ps = [{\"type\":\"parafac\", \"stage\": 2, \"epochs\": 1,\n",
    "            \"scale_B\": 10, \"scale_C\": 2,\n",
    "            \"A\":439, \"B\":20, \"C\":36+1,\n",
    "            \"B-rows\": 5,  \"B-cols\": 4,\n",
    "            \"C-rows\": 6, \"C-cols\": 6,\n",
    "            \"K\":20},\n",
    "\n",
    "            {\"type\":\"parafac\", \"stage\": 3, \"epochs\": 1,\n",
    "            \"scale_B\": 5, \"scale_C\": 2,\n",
    "            \"A\":439, \"B\":80, \"C\":36+1,\n",
    "            \"B-rows\": 10, \"B-cols\": 8,\n",
    "            \"C-rows\": 6, \"C-cols\": 6,\n",
    "            \"K\":20},\n",
    "\n",
    "            {\"type\":\"parafac\", \"stage\": 4, \"epochs\": 1,\n",
    "            \"scale_B\": 2, \"scale_C\": 2,\n",
    "            \"A\":439, \"B\":500, \"C\":36+1,\n",
    "            \"B-rows\": 25, \"B-cols\": 20,\n",
    "            \"C-rows\": 6,\"C-cols\": 6,\n",
    "            \"K\":20},\n",
    "\n",
    "            {\"type\":\"parafac\", \"stage\": 5, \"epochs\": 1,\n",
    "            \"scale_B\": 1, \"scale_C\": 1,\n",
    "            \"A\":439, \"B\":2000, \"C\":144+1,\n",
    "            \"B-rows\": 50, \"B-cols\": 40,\n",
    "            \"C-rows\": 12,\"C-cols\": 12,\n",
    "            \"K\":20}]"
   ]
  },
  {
   "cell_type": "code",
   "execution_count": 32,
   "metadata": {
    "collapsed": true
   },
   "outputs": [],
   "source": [
    "def up(i,s,ss, ps=None):\n",
    "  c = int(i / ps[\"B-rows\"])\n",
    "  r = i % ps[\"B-rows\"]\n",
    "  "
   ]
  },
  {
   "cell_type": "code",
   "execution_count": 51,
   "metadata": {
    "collapsed": true
   },
   "outputs": [],
   "source": [
    "def down(data, idx):\n",
    "  i = data.numpy()[0,0]\n",
    "  \n",
    "  _ps = ps[idx]  \n",
    "  new_ps = ps[idx-1]\n",
    "  \n",
    "  r = int(i % _ps[\"B-rows\"])\n",
    "  c = int(i / _ps[\"B-rows\"])\n",
    "  \n",
    "  ratio = new_ps[\"scale_B\"] / _ps[\"scale_B\"]\n",
    "  rr = int(r / ratio)\n",
    "  cc = int(c / ratio)\n",
    "    \n",
    "  print(e, data, target) \n",
    "  \n",
    "  print(\"dims\", _ps[\"B-rows\"], _ps[\"B-cols\"], \"->\", new_ps[\"B-rows\"], new_ps[\"B-cols\"])\n",
    "  print(\"ratio\", ratio, \":\", r,c, \"->\", rr, cc, \"=\", cc * new_ps[\"B-rows\"] + rr)  "
   ]
  },
  {
   "cell_type": "code",
   "execution_count": 50,
   "metadata": {
    "scrolled": true
   },
   "outputs": [
    {
     "name": "stdout",
     "output_type": "stream",
     "text": [
      "0 \n",
      " 19  -1  -1  -1  21  -1\n",
      "[torch.LongTensor of size 1x6]\n",
      " \n",
      " 271    6    0\n",
      "[torch.LongTensor of size 1x3]\n",
      "\n",
      "dims 5 4\n",
      "4 3\n"
     ]
    }
   ],
   "source": [
    "idx = 0\n",
    "for e, (data, target) in enumerate(data_loader_10):\n",
    "  if e > 0: break\n",
    "  \n",
    "  i = data.numpy()[0,0]\n",
    "  \n",
    "  _ps = ps[idx]  \n",
    "  r = int(i % _ps[\"B-rows\"])\n",
    "  c = int(i / _ps[\"B-rows\"])\n",
    "        \n",
    "  print(e, data, target)    \n",
    "  print(\"dims\", _ps[\"B-rows\"], _ps[\"B-cols\"])\n",
    "  print(r,c)  "
   ]
  },
  {
   "cell_type": "code",
   "execution_count": 54,
   "metadata": {},
   "outputs": [
    {
     "name": "stdout",
     "output_type": "stream",
     "text": [
      "0 \n",
      " 70  -1  -1  -1  21  -1\n",
      "[torch.LongTensor of size 1x6]\n",
      " \n",
      " 271    6    0\n",
      "[torch.LongTensor of size 1x3]\n",
      "\n",
      "dims 10 8 -> 5 4\n",
      "ratio 2.0 : 0 7 -> 0 3 = 15\n"
     ]
    }
   ],
   "source": [
    "idx = 1\n",
    "for e, (data, target) in enumerate(data_loader_5):\n",
    "  if e > 0: break\n",
    "  down(data, idx)"
   ]
  },
  {
   "cell_type": "code",
   "execution_count": 55,
   "metadata": {},
   "outputs": [
    {
     "name": "stdout",
     "output_type": "stream",
     "text": [
      "0 \n",
      " 436   -1   -1   -1   21   -1\n",
      "[torch.LongTensor of size 1x6]\n",
      " \n",
      " 271    6    0\n",
      "[torch.LongTensor of size 1x3]\n",
      "\n",
      "dims 25 20 -> 10 8\n",
      "ratio 2.5 : 11 17 -> 4 6 = 64\n"
     ]
    }
   ],
   "source": [
    "idx = 2\n",
    "for e, (data, target) in enumerate(data_loader_2):\n",
    "  if e > 0: break\n",
    "  down(data, idx)"
   ]
  },
  {
   "cell_type": "code",
   "execution_count": 57,
   "metadata": {},
   "outputs": [
    {
     "name": "stdout",
     "output_type": "stream",
     "text": [
      "0 \n",
      " 1712    -1    -1    -1    21    -1\n",
      "[torch.LongTensor of size 1x6]\n",
      " \n",
      " 271    6    0\n",
      "[torch.LongTensor of size 1x3]\n",
      "\n",
      "dims 50 40 -> 25 20\n",
      "ratio 2.0 : 12 34 -> 6 17 = 431\n"
     ]
    }
   ],
   "source": [
    "idx = 3\n",
    "for e, (data, target) in enumerate(data_loader_1):\n",
    "  if e > 0: break\n",
    "  down(data, idx)"
   ]
  },
  {
   "cell_type": "code",
   "execution_count": null,
   "metadata": {
    "collapsed": true
   },
   "outputs": [],
   "source": []
  }
 ],
 "metadata": {
  "kernelspec": {
   "display_name": "Python 3",
   "language": "python",
   "name": "python3"
  },
  "language_info": {
   "codemirror_mode": {
    "name": "ipython",
    "version": 3
   },
   "file_extension": ".py",
   "mimetype": "text/x-python",
   "name": "python",
   "nbconvert_exporter": "python",
   "pygments_lexer": "ipython3",
   "version": "3.6.2"
  }
 },
 "nbformat": 4,
 "nbformat_minor": 2
}
