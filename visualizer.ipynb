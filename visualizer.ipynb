{
 "cells": [
  {
   "cell_type": "code",
   "execution_count": 3,
   "metadata": {},
   "outputs": [],
   "source": [
    "a= [[7.92270872e-02,-2.49129743e-02, 2.13250970e-02],\n",
    " [7.19326476e-02, 1.42144885e-01, 1.65761331e-02],\n",
    " [2.07140449e-01, 4.50936496e-01, 1.57554776e-02],\n",
    " [6.32263979e-01, 1.37949849e+00, 4.09364463e-02],\n",
    " [1.93029591e+00, 4.20389099e+00, 3.00855586e-01],\n",
    " [5.82077916e+00, 1.24512324e+01, 2.69276661e+00],\n",
    " [1.56867490e+01, 2.83419418e+01, 2.07323417e+01],\n",
    " [1.89691363e+01, 1.90528067e+00, 5.41831673e+01],\n",
    " [ -1.95909481e+00,-1.68779353e+01, 3.50479419e+01],\n",
    " [ -9.95011860e+00,-1.10471956e+01, 3.53643750e+01],\n",
    " [ -7.84034076e+00,-3.59290204e+00, 3.31370964e+01],\n",
    " [ -4.17531102e+00,-1.80964321e+00, 2.65731478e+01],\n",
    " [ -2.95029284e+00,-2.92897599e+00, 2.09402347e+01],\n",
    " [ -3.69987811e+00,-5.38099943e+00, 1.71024006e+01],\n",
    " [ -6.28862858e+00,-1.01330357e+01, 1.62463056e+01],\n",
    " [ -1.11460341e+01,-1.66995586e+01, 2.25910520e+01],\n",
    " [ -1.46140274e+01,-1.31015398e+01, 3.68875991e+01],\n",
    " [ -8.51656544e+00, 2.24662056e-01, 3.55517523e+01],\n",
    " [ -1.72222965e+00, 2.24298089e+00, 2.64626401e+01],\n",
    " [7.24500772e-01, 1.99522739e+00, 2.01283236e+01],\n",
    " [1.82933666e+00, 3.03785218e+00, 1.56313615e+01],\n",
    " [3.53018958e+00, 6.08483962e+00, 1.29183791e+01],\n",
    " [7.26198318e+00, 1.27093522e+01, 1.40018648e+01],\n",
    " [1.38267375e+01, 2.02719764e+01, 2.63500582e+01],\n",
    " [1.48942266e+01, 6.97231819e+00, 4.24747649e+01],\n",
    " [4.18937732e+00,-5.24181041e+00, 3.28073859e+01],\n",
    " [ -2.01302383e+00,-5.21384663e+00, 2.46928481e+01],\n",
    " [ -4.39772056e+00,-6.47802754e+00, 2.04759142e+01],\n",
    " [ -6.92548961e+00,-1.01961425e+01, 1.96176012e+01],\n",
    " [ -1.07018434e+01,-1.45764497e+01, 2.46379247e+01],\n",
    " [ -1.28805566e+01,-1.16981007e+01, 3.40725157e+01],\n",
    " [ -8.83848691e+00,-2.90897919e+00, 3.36257346e+01],\n",
    " [ -3.93542504e+00,-8.77651198e-01, 2.65466415e+01],\n",
    " [ -2.25482413e+00,-1.92188411e+00, 2.05787201e+01],\n",
    " [ -2.64595770e+00,-3.85286686e+00, 1.62710478e+01],\n",
    " [ -4.62459703e+00,-7.73036630e+00, 1.41266581e+01],\n",
    " [ -8.99094782e+00,-1.49353352e+01, 1.72272842e+01],\n",
    " [ -1.49124977e+01,-1.83738599e+01, 3.21983197e+01],\n",
    " [ -1.20649822e+01,-2.26231976e+00, 4.01003279e+01],\n",
    " [ -2.58442766e+00, 4.08793691e+00, 2.97286141e+01],\n",
    " [1.66865028e+00, 3.90657080e+00, 2.26122752e+01],\n",
    " [3.53233844e+00, 5.44688572e+00, 1.82933438e+01],\n",
    " [6.06774379e+00, 9.60327665e+00, 1.69601912e+01],\n",
    " [1.05262476e+01, 1.57281789e+01, 2.20557824e+01],\n",
    " [1.42215332e+01, 1.39209328e+01, 3.51403237e+01],\n",
    " [9.43755004e+00, 1.35714132e+00, 3.59593659e+01],\n",
    " [2.70881926e+00,-1.50920048e+00, 2.72224905e+01],\n",
    " [1.41541987e-01,-1.02354984e+00, 2.06257744e+01],\n",
    " [ -6.32530275e-01,-1.20349271e+00, 1.57665251e+01],\n",
    " [ -1.33505117e+00,-2.33955850e+00, 1.21731300e+01],\n",
    " [ -2.86383902e+00,-5.27215997e+00, 9.92541504e+00],\n",
    " [ -6.54050125e+00,-1.21786826e+01, 1.08624650e+01],\n",
    " [ -1.39187441e+01,-2.21863308e+01, 2.37437538e+01],\n",
    " [ -1.64880811e+01,-7.79666427e+00, 4.53298982e+01],\n",
    " [ -3.51985776e+00, 8.08217156e+00, 3.40015622e+01],\n",
    " [3.96839158e+00, 7.69072898e+00, 2.64238887e+01],\n",
    " [6.57057100e+00, 8.52404981e+00, 2.39413284e+01],\n",
    " [8.54970758e+00, 1.05747136e+01, 2.46098227e+01],\n",
    " [1.02750619e+01, 1.12494772e+01, 2.81408909e+01],\n",
    " [1.00972093e+01, 8.47923200e+00, 3.08889172e+01],\n",
    " [7.87581412e+00, 5.49738568e+00, 2.91999037e+01],\n",
    " [6.09626171e+00, 5.24577872e+00, 2.54561546e+01],\n",
    " [6.07330727e+00, 7.02055405e+00, 2.25621824e+01],\n",
    " [7.71756537e+00, 1.01122101e+01, 2.22732807e+01],\n",
    " [1.03310248e+01, 1.27192407e+01, 2.62239270e+01],\n",
    " [1.14119039e+01, 1.03130793e+01, 3.19844363e+01],\n",
    " [8.70326910e+00, 4.90842760e+00, 3.15328067e+01],\n",
    " [5.47548746e+00, 3.40582850e+00, 2.65083875e+01],\n",
    " [4.50217977e+00, 4.76395543e+00, 2.18878551e+01],\n",
    " [5.63797038e+00, 7.82165071e+00, 1.93511216e+01],\n",
    " [8.65334436e+00, 1.25493241e+01, 2.09893946e+01],\n",
    " [1.23918610e+01, 1.47729694e+01, 2.93774738e+01],\n",
    " [1.16619865e+01, 7.01150608e+00, 3.56808198e+01],\n",
    " [6.07133362e+00, 1.05467367e+00, 3.02900569e+01],\n",
    " [2.69231270e+00, 1.15408566e+00, 2.34395859e+01],\n",
    " [2.14256507e+00, 2.55777497e+00, 1.82362145e+01],\n",
    " [3.19919575e+00, 5.10319241e+00, 1.47426442e+01],\n",
    " [6.07329668e+00, 1.03722898e+01, 1.41771663e+01],\n",
    " [1.16586516e+01, 1.82357802e+01, 2.18078135e+01],\n",
    " [1.56291522e+01, 1.31320755e+01, 3.93047926e+01],\n",
    " [7.64669668e+00,-2.76954873e+00, 3.59688475e+01],\n",
    " [8.64623654e-03,-4.20582529e+00, 2.62936582e+01],\n",
    " [ -2.75051845e+00,-4.56813895e+00, 2.06338722e+01],\n",
    " [ -4.73499101e+00,-7.28034436e+00, 1.75998155e+01],\n",
    " [ -8.13025657e+00,-1.26234410e+01, 1.88292485e+01],\n",
    " [ -1.28453011e+01,-1.65295288e+01, 2.84420746e+01],\n",
    " [ -1.27387797e+01,-7.29957480e+00, 3.76976701e+01],\n",
    " [ -5.73241784e+00, 6.91391790e-01, 3.13391953e+01],\n",
    " [ -1.37628429e+00, 7.80285574e-01, 2.36399852e+01],\n",
    " [ -1.65479394e-01, 3.05424267e-01, 1.80058187e+01],\n",
    " [1.11585126e-01, 2.72727015e-01, 1.37405860e+01],\n",
    " [2.90684701e-01, 5.34940524e-01, 1.04924854e+01],\n",
    " [6.65830964e-01, 1.26783837e+00, 8.04112636e+00],\n",
    " [1.62938098e+00, 3.21114656e+00, 6.33689185e+00],\n",
    " [4.18250737e+00, 8.36437841e+00, 6.14650238e+00],\n",
    " [1.05691833e+01, 1.99128599e+01, 1.31701223e+01],\n",
    " [1.91836178e+01, 2.04799076e+01, 4.19715882e+01],\n",
    " [8.23166921e+00,-9.79825492e+00, 4.09326726e+01],\n",
    " [ -4.53372073e+00,-1.09388699e+01, 3.01690614e+01],\n",
    " [ -8.03203193e+00,-9.08254641e+00, 2.88900426e+01]]\n",
    "\n"
   ]
  },
  {
   "cell_type": "code",
   "execution_count": 4,
   "metadata": {},
   "outputs": [
    {
     "data": {
      "text/plain": [
       "[[0.0792270872, -0.0249129743, 0.021325097],\n",
       " [0.0719326476, 0.142144885, 0.0165761331],\n",
       " [0.207140449, 0.450936496, 0.0157554776],\n",
       " [0.632263979, 1.37949849, 0.0409364463],\n",
       " [1.93029591, 4.20389099, 0.300855586],\n",
       " [5.82077916, 12.4512324, 2.69276661],\n",
       " [15.686749, 28.3419418, 20.7323417],\n",
       " [18.9691363, 1.90528067, 54.1831673],\n",
       " [-1.95909481, -16.8779353, 35.0479419],\n",
       " [-9.9501186, -11.0471956, 35.364375],\n",
       " [-7.84034076, -3.59290204, 33.1370964],\n",
       " [-4.17531102, -1.80964321, 26.5731478],\n",
       " [-2.95029284, -2.92897599, 20.9402347],\n",
       " [-3.69987811, -5.38099943, 17.1024006],\n",
       " [-6.28862858, -10.1330357, 16.2463056],\n",
       " [-11.1460341, -16.6995586, 22.591052],\n",
       " [-14.6140274, -13.1015398, 36.8875991],\n",
       " [-8.51656544, 0.224662056, 35.5517523],\n",
       " [-1.72222965, 2.24298089, 26.4626401],\n",
       " [0.724500772, 1.99522739, 20.1283236],\n",
       " [1.82933666, 3.03785218, 15.6313615],\n",
       " [3.53018958, 6.08483962, 12.9183791],\n",
       " [7.26198318, 12.7093522, 14.0018648],\n",
       " [13.8267375, 20.2719764, 26.3500582],\n",
       " [14.8942266, 6.97231819, 42.4747649],\n",
       " [4.18937732, -5.24181041, 32.8073859],\n",
       " [-2.01302383, -5.21384663, 24.6928481],\n",
       " [-4.39772056, -6.47802754, 20.4759142],\n",
       " [-6.92548961, -10.1961425, 19.6176012],\n",
       " [-10.7018434, -14.5764497, 24.6379247],\n",
       " [-12.8805566, -11.6981007, 34.0725157],\n",
       " [-8.83848691, -2.90897919, 33.6257346],\n",
       " [-3.93542504, -0.877651198, 26.5466415],\n",
       " [-2.25482413, -1.92188411, 20.5787201],\n",
       " [-2.6459577, -3.85286686, 16.2710478],\n",
       " [-4.62459703, -7.7303663, 14.1266581],\n",
       " [-8.99094782, -14.9353352, 17.2272842],\n",
       " [-14.9124977, -18.3738599, 32.1983197],\n",
       " [-12.0649822, -2.26231976, 40.1003279],\n",
       " [-2.58442766, 4.08793691, 29.7286141],\n",
       " [1.66865028, 3.9065708, 22.6122752],\n",
       " [3.53233844, 5.44688572, 18.2933438],\n",
       " [6.06774379, 9.60327665, 16.9601912],\n",
       " [10.5262476, 15.7281789, 22.0557824],\n",
       " [14.2215332, 13.9209328, 35.1403237],\n",
       " [9.43755004, 1.35714132, 35.9593659],\n",
       " [2.70881926, -1.50920048, 27.2224905],\n",
       " [0.141541987, -1.02354984, 20.6257744],\n",
       " [-0.632530275, -1.20349271, 15.7665251],\n",
       " [-1.33505117, -2.3395585, 12.17313],\n",
       " [-2.86383902, -5.27215997, 9.92541504],\n",
       " [-6.54050125, -12.1786826, 10.862465],\n",
       " [-13.9187441, -22.1863308, 23.7437538],\n",
       " [-16.4880811, -7.79666427, 45.3298982],\n",
       " [-3.51985776, 8.08217156, 34.0015622],\n",
       " [3.96839158, 7.69072898, 26.4238887],\n",
       " [6.570571, 8.52404981, 23.9413284],\n",
       " [8.54970758, 10.5747136, 24.6098227],\n",
       " [10.2750619, 11.2494772, 28.1408909],\n",
       " [10.0972093, 8.479232, 30.8889172],\n",
       " [7.87581412, 5.49738568, 29.1999037],\n",
       " [6.09626171, 5.24577872, 25.4561546],\n",
       " [6.07330727, 7.02055405, 22.5621824],\n",
       " [7.71756537, 10.1122101, 22.2732807],\n",
       " [10.3310248, 12.7192407, 26.223927],\n",
       " [11.4119039, 10.3130793, 31.9844363],\n",
       " [8.7032691, 4.9084276, 31.5328067],\n",
       " [5.47548746, 3.4058285, 26.5083875],\n",
       " [4.50217977, 4.76395543, 21.8878551],\n",
       " [5.63797038, 7.82165071, 19.3511216],\n",
       " [8.65334436, 12.5493241, 20.9893946],\n",
       " [12.391861, 14.7729694, 29.3774738],\n",
       " [11.6619865, 7.01150608, 35.6808198],\n",
       " [6.07133362, 1.05467367, 30.2900569],\n",
       " [2.6923127, 1.15408566, 23.4395859],\n",
       " [2.14256507, 2.55777497, 18.2362145],\n",
       " [3.19919575, 5.10319241, 14.7426442],\n",
       " [6.07329668, 10.3722898, 14.1771663],\n",
       " [11.6586516, 18.2357802, 21.8078135],\n",
       " [15.6291522, 13.1320755, 39.3047926],\n",
       " [7.64669668, -2.76954873, 35.9688475],\n",
       " [0.00864623654, -4.20582529, 26.2936582],\n",
       " [-2.75051845, -4.56813895, 20.6338722],\n",
       " [-4.73499101, -7.28034436, 17.5998155],\n",
       " [-8.13025657, -12.623441, 18.8292485],\n",
       " [-12.8453011, -16.5295288, 28.4420746],\n",
       " [-12.7387797, -7.2995748, 37.6976701],\n",
       " [-5.73241784, 0.69139179, 31.3391953],\n",
       " [-1.37628429, 0.780285574, 23.6399852],\n",
       " [-0.165479394, 0.305424267, 18.0058187],\n",
       " [0.111585126, 0.272727015, 13.740586],\n",
       " [0.290684701, 0.534940524, 10.4924854],\n",
       " [0.665830964, 1.26783837, 8.04112636],\n",
       " [1.62938098, 3.21114656, 6.33689185],\n",
       " [4.18250737, 8.36437841, 6.14650238],\n",
       " [10.5691833, 19.9128599, 13.1701223],\n",
       " [19.1836178, 20.4799076, 41.9715882],\n",
       " [8.23166921, -9.79825492, 40.9326726],\n",
       " [-4.53372073, -10.9388699, 30.1690614],\n",
       " [-8.03203193, -9.08254641, 28.8900426]]"
      ]
     },
     "execution_count": 4,
     "metadata": {},
     "output_type": "execute_result"
    }
   ],
   "source": [
    "a"
   ]
  },
  {
   "cell_type": "code",
   "execution_count": 5,
   "metadata": {
    "collapsed": true
   },
   "outputs": [],
   "source": [
    "import matplotlib.pyplot as plt"
   ]
  },
  {
   "cell_type": "code",
   "execution_count": 18,
   "metadata": {},
   "outputs": [],
   "source": [
    "x10 = []\n",
    "y10 = []\n",
    "z10 = []\n",
    "for i in range(10):\n",
    "    x10.append(a[i][0])\n",
    "    y10.append(a[i][1])\n",
    "    z10.append(a[i][2])"
   ]
  },
  {
   "cell_type": "code",
   "execution_count": 7,
   "metadata": {},
   "outputs": [
    {
     "data": {
      "text/plain": [
       "[0.0792270872,\n",
       " 0.0719326476,\n",
       " 0.207140449,\n",
       " 0.632263979,\n",
       " 1.93029591,\n",
       " 5.82077916,\n",
       " 15.686749,\n",
       " 18.9691363,\n",
       " -1.95909481,\n",
       " -9.9501186,\n",
       " -7.84034076,\n",
       " -4.17531102,\n",
       " -2.95029284,\n",
       " -3.69987811,\n",
       " -6.28862858,\n",
       " -11.1460341,\n",
       " -14.6140274,\n",
       " -8.51656544,\n",
       " -1.72222965,\n",
       " 0.724500772,\n",
       " 1.82933666,\n",
       " 3.53018958,\n",
       " 7.26198318,\n",
       " 13.8267375,\n",
       " 14.8942266,\n",
       " 4.18937732,\n",
       " -2.01302383,\n",
       " -4.39772056,\n",
       " -6.92548961,\n",
       " -10.7018434,\n",
       " -12.8805566,\n",
       " -8.83848691,\n",
       " -3.93542504,\n",
       " -2.25482413,\n",
       " -2.6459577,\n",
       " -4.62459703,\n",
       " -8.99094782,\n",
       " -14.9124977,\n",
       " -12.0649822,\n",
       " -2.58442766,\n",
       " 1.66865028,\n",
       " 3.53233844,\n",
       " 6.06774379,\n",
       " 10.5262476,\n",
       " 14.2215332,\n",
       " 9.43755004,\n",
       " 2.70881926,\n",
       " 0.141541987,\n",
       " -0.632530275,\n",
       " -1.33505117,\n",
       " -2.86383902,\n",
       " -6.54050125,\n",
       " -13.9187441,\n",
       " -16.4880811,\n",
       " -3.51985776,\n",
       " 3.96839158,\n",
       " 6.570571,\n",
       " 8.54970758,\n",
       " 10.2750619,\n",
       " 10.0972093,\n",
       " 7.87581412,\n",
       " 6.09626171,\n",
       " 6.07330727,\n",
       " 7.71756537,\n",
       " 10.3310248,\n",
       " 11.4119039,\n",
       " 8.7032691,\n",
       " 5.47548746,\n",
       " 4.50217977,\n",
       " 5.63797038,\n",
       " 8.65334436,\n",
       " 12.391861,\n",
       " 11.6619865,\n",
       " 6.07133362,\n",
       " 2.6923127,\n",
       " 2.14256507,\n",
       " 3.19919575,\n",
       " 6.07329668,\n",
       " 11.6586516,\n",
       " 15.6291522,\n",
       " 7.64669668,\n",
       " 0.00864623654,\n",
       " -2.75051845,\n",
       " -4.73499101,\n",
       " -8.13025657,\n",
       " -12.8453011,\n",
       " -12.7387797,\n",
       " -5.73241784,\n",
       " -1.37628429,\n",
       " -0.165479394,\n",
       " 0.111585126,\n",
       " 0.290684701,\n",
       " 0.665830964,\n",
       " 1.62938098,\n",
       " 4.18250737,\n",
       " 10.5691833,\n",
       " 19.1836178,\n",
       " 8.23166921,\n",
       " -4.53372073,\n",
       " -8.03203193]"
      ]
     },
     "execution_count": 7,
     "metadata": {},
     "output_type": "execute_result"
    }
   ],
   "source": [
    "x\n"
   ]
  },
  {
   "cell_type": "code",
   "execution_count": 20,
   "metadata": {},
   "outputs": [
    {
     "data": {
      "text/plain": [
       "[<matplotlib.lines.Line2D at 0x11ced83c8>,\n",
       " <matplotlib.lines.Line2D at 0x11ced8518>]"
      ]
     },
     "execution_count": 20,
     "metadata": {},
     "output_type": "execute_result"
    }
   ],
   "source": [
    "\n",
    "plt.plot(x10,y10,z10)"
   ]
  },
  {
   "cell_type": "code",
   "execution_count": 21,
   "metadata": {},
   "outputs": [
    {
     "data": {
      "image/png": "[encoded data removed]",
      "text/plain": [
       "<matplotlib.figure.Figure at 0x11ce33278>"
      ]
     },
     "metadata": {},
     "output_type": "display_data"
    }
   ],
   "source": [
    "plt.show()"
   ]
  },
  {
   "cell_type": "code",
   "execution_count": 11,
   "metadata": {},
   "outputs": [
    {
     "data": {
      "text/plain": [
       "100"
      ]
     },
     "execution_count": 11,
     "metadata": {},
     "output_type": "execute_result"
    }
   ],
   "source": [
    "len(a)"
   ]
  },
  {
   "cell_type": "code",
   "execution_count": 19,
   "metadata": {},
   "outputs": [
    {
     "data": {
      "text/plain": [
       "[0.0792270872,\n",
       " 0.0719326476,\n",
       " 0.207140449,\n",
       " 0.632263979,\n",
       " 1.93029591,\n",
       " 5.82077916,\n",
       " 15.686749,\n",
       " 18.9691363,\n",
       " -1.95909481,\n",
       " -9.9501186]"
      ]
     },
     "execution_count": 19,
     "metadata": {},
     "output_type": "execute_result"
    }
   ],
   "source": [
    "x10"
   ]
  },
  {
   "cell_type": "code",
   "execution_count": null,
   "metadata": {
    "collapsed": true
   },
   "outputs": [],
   "source": []
  }
 ],
 "metadata": {
  "kernelspec": {
   "display_name": "Python 3",
   "language": "python",
   "name": "python3"
  },
  "language_info": {
   "codemirror_mode": {
    "name": "ipython",
    "version": 3
   },
   "file_extension": ".py",
   "mimetype": "text/x-python",
   "name": "python",
   "nbconvert_exporter": "python",
   "pygments_lexer": "ipython3",
   "version": "3.6.3"
  }
 },
 "nbformat": 4,
 "nbformat_minor": 2
}
